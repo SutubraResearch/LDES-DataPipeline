{
 "cells": [
  {
   "cell_type": "code",
   "execution_count": 4,
   "id": "initial_id",
   "metadata": {
    "collapsed": true,
    "ExecuteTime": {
     "end_time": "2024-03-11T20:30:39.033365Z",
     "start_time": "2024-03-11T20:30:39.027722Z"
    }
   },
   "outputs": [],
   "source": [
    "import sqlite3\n",
    "import pandas as pd\n",
    "import numpy as np\n",
    "import toml"
   ]
  },
  {
   "cell_type": "code",
   "outputs": [],
   "source": [
    "config_file = '../data_files/configuration/lite.toml'\n",
    "sqlite_schema_file = '../data_files/sqlite_schema.sqlite'"
   ],
   "metadata": {
    "collapsed": false,
    "ExecuteTime": {
     "end_time": "2024-03-11T20:31:27.957424Z",
     "start_time": "2024-03-11T20:31:27.954787Z"
    }
   },
   "id": "4be115db8b7a2ab7",
   "execution_count": 5
  },
  {
   "cell_type": "code",
   "outputs": [],
   "source": [
    "\n",
    "def load_configuration(config_path):\n",
    "    with open(config_path, 'r') as config_file:\n",
    "        return toml.load(config_file)\n",
    "\n",
    "def get_technologies_for_region(config, region):\n",
    "    global_technologies = config['Resources']['global']\n",
    "    regional_technologies = config['Resources'].get('Regional', {}).get(region, global_technologies)\n",
    "    return regional_technologies\n",
    "\n",
    "# Load the scenario configuration\n",
    "config = load_configuration('path/to/scenario_config.toml')\n",
    "\n",
    "# Example: Get technologies for a specific region\n",
    "ns_technologies = get_technologies_for_region(config, 'NS')\n",
    "print(\"Technologies for NS:\", ns_technologies)\n",
    "\n",
    "# Example: Get technologies for a region without overrides\n",
    "unspecified_region_technologies = get_technologies_for_region(config, 'PEI')  # Assuming PEI is not overridden\n",
    "print(\"Technologies for PEI (using global defaults):\", unspecified_region_technologies)\n"
   ],
   "metadata": {
    "collapsed": false
   },
   "id": "4df34e395c2528f6"
  }
 ],
 "metadata": {
  "kernelspec": {
   "display_name": "Python 3",
   "language": "python",
   "name": "python3"
  },
  "language_info": {
   "codemirror_mode": {
    "name": "ipython",
    "version": 2
   },
   "file_extension": ".py",
   "mimetype": "text/x-python",
   "name": "python",
   "nbconvert_exporter": "python",
   "pygments_lexer": "ipython2",
   "version": "2.7.6"
  }
 },
 "nbformat": 4,
 "nbformat_minor": 5
}
